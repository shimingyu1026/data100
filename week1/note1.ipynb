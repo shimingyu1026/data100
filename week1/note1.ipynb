{
 "cells": [
  {
   "cell_type": "code",
   "execution_count": 11,
   "id": "dd4bf360",
   "metadata": {},
   "outputs": [],
   "source": [
    "import pandas as pd"
   ]
  },
  {
   "cell_type": "markdown",
   "id": "c2d2ae30",
   "metadata": {},
   "source": [
    "pandas 使用 DataFrame 作为数据结构，其中一个是Series"
   ]
  },
  {
   "cell_type": "code",
   "execution_count": 12,
   "id": "8ab26a02",
   "metadata": {},
   "outputs": [
    {
     "data": {
      "text/plain": [
       "0    aaa\n",
       "1    bbb\n",
       "2    ccc\n",
       "dtype: object"
      ]
     },
     "execution_count": 12,
     "metadata": {},
     "output_type": "execute_result"
    }
   ],
   "source": [
    "s = pd.Series(['aaa','bbb','ccc'])\n",
    "s"
   ]
  },
  {
   "cell_type": "code",
   "execution_count": 17,
   "id": "30d88dc5",
   "metadata": {},
   "outputs": [
    {
     "data": {
      "text/plain": [
       "a    aaa\n",
       "b    bbb\n",
       "c    ccc\n",
       "dtype: object"
      ]
     },
     "execution_count": 17,
     "metadata": {},
     "output_type": "execute_result"
    }
   ],
   "source": [
    "s = pd.Series(['aaa','bbb','ccc'],index = ['a','b','c'])\n",
    "s"
   ]
  },
  {
   "cell_type": "code",
   "execution_count": 25,
   "id": "30b12442",
   "metadata": {},
   "outputs": [
    {
     "data": {
      "text/plain": [
       "array([ 42,  23, -34,  34, -34])"
      ]
     },
     "execution_count": 25,
     "metadata": {},
     "output_type": "execute_result"
    }
   ],
   "source": [
    "s.values"
   ]
  },
  {
   "cell_type": "markdown",
   "id": "1288ef7f",
   "metadata": {},
   "source": [
    "过滤想要的pandas行\n",
    "1) 使用 boolean 条件筛选\n",
    "2) 索引"
   ]
  },
  {
   "cell_type": "code",
   "execution_count": 24,
   "id": "2f0851d7",
   "metadata": {},
   "outputs": [
    {
     "data": {
      "text/plain": [
       "0    42\n",
       "2   -34\n",
       "3    34\n",
       "4   -34\n",
       "dtype: int64"
      ]
     },
     "execution_count": 24,
     "metadata": {},
     "output_type": "execute_result"
    }
   ],
   "source": [
    "s = pd.Series([42,23,-34,34,-34])\n",
    "idx = s.index % 2 == 1\n",
    "idx = s % 2 ==0\n",
    "s[idx]"
   ]
  },
  {
   "cell_type": "markdown",
   "id": "b2348242",
   "metadata": {},
   "source": [
    "DataFrame 是一些 Series 的集合，DataFrame 是一个二维数据结构，DataFrame 的列可以是不同的数据类型。"
   ]
  },
  {
   "cell_type": "code",
   "execution_count": 34,
   "id": "d35983a1",
   "metadata": {},
   "outputs": [
    {
     "data": {
      "text/html": [
       "<div>\n",
       "<style scoped>\n",
       "    .dataframe tbody tr th:only-of-type {\n",
       "        vertical-align: middle;\n",
       "    }\n",
       "\n",
       "    .dataframe tbody tr th {\n",
       "        vertical-align: top;\n",
       "    }\n",
       "\n",
       "    .dataframe thead th {\n",
       "        text-align: right;\n",
       "    }\n",
       "</style>\n",
       "<table border=\"1\" class=\"dataframe\">\n",
       "  <thead>\n",
       "    <tr style=\"text-align: right;\">\n",
       "      <th></th>\n",
       "      <th>name</th>\n",
       "    </tr>\n",
       "    <tr>\n",
       "      <th>year</th>\n",
       "      <th></th>\n",
       "    </tr>\n",
       "  </thead>\n",
       "  <tbody>\n",
       "    <tr>\n",
       "      <th>2003</th>\n",
       "      <td>smy</td>\n",
       "    </tr>\n",
       "    <tr>\n",
       "      <th>2005</th>\n",
       "      <td>wfv</td>\n",
       "    </tr>\n",
       "    <tr>\n",
       "      <th>2006</th>\n",
       "      <td>sdf</td>\n",
       "    </tr>\n",
       "    <tr>\n",
       "      <th>2003</th>\n",
       "      <td>eef</td>\n",
       "    </tr>\n",
       "  </tbody>\n",
       "</table>\n",
       "</div>"
      ],
      "text/plain": [
       "     name\n",
       "year     \n",
       "2003  smy\n",
       "2005  wfv\n",
       "2006  sdf\n",
       "2003  eef"
      ]
     },
     "execution_count": 34,
     "metadata": {},
     "output_type": "execute_result"
    }
   ],
   "source": [
    "#从csv文件\n",
    "elections = pd.read_csv(\"/home/smy/data100/week1/test.csv\",index_col='year')\n",
    "elections\n"
   ]
  },
  {
   "cell_type": "code",
   "execution_count": 38,
   "id": "4c03f44b",
   "metadata": {},
   "outputs": [
    {
     "data": {
      "text/html": [
       "<div>\n",
       "<style scoped>\n",
       "    .dataframe tbody tr th:only-of-type {\n",
       "        vertical-align: middle;\n",
       "    }\n",
       "\n",
       "    .dataframe tbody tr th {\n",
       "        vertical-align: top;\n",
       "    }\n",
       "\n",
       "    .dataframe thead th {\n",
       "        text-align: right;\n",
       "    }\n",
       "</style>\n",
       "<table border=\"1\" class=\"dataframe\">\n",
       "  <thead>\n",
       "    <tr style=\"text-align: right;\">\n",
       "      <th></th>\n",
       "      <th>year</th>\n",
       "      <th>index</th>\n",
       "      <th>name</th>\n",
       "    </tr>\n",
       "  </thead>\n",
       "  <tbody>\n",
       "    <tr>\n",
       "      <th>0</th>\n",
       "      <td>2003</td>\n",
       "      <td>0</td>\n",
       "      <td>smy</td>\n",
       "    </tr>\n",
       "    <tr>\n",
       "      <th>1</th>\n",
       "      <td>2005</td>\n",
       "      <td>1</td>\n",
       "      <td>wfv</td>\n",
       "    </tr>\n",
       "    <tr>\n",
       "      <th>2</th>\n",
       "      <td>2006</td>\n",
       "      <td>2</td>\n",
       "      <td>sdf</td>\n",
       "    </tr>\n",
       "    <tr>\n",
       "      <th>3</th>\n",
       "      <td>2003</td>\n",
       "      <td>3</td>\n",
       "      <td>eef</td>\n",
       "    </tr>\n",
       "  </tbody>\n",
       "</table>\n",
       "</div>"
      ],
      "text/plain": [
       "   year  index name\n",
       "0  2003      0  smy\n",
       "1  2005      1  wfv\n",
       "2  2006      2  sdf\n",
       "3  2003      3  eef"
      ]
     },
     "execution_count": 38,
     "metadata": {},
     "output_type": "execute_result"
    }
   ],
   "source": [
    "# elections.set_index('year', inplace=True)\n",
    "elections.reset_index(inplace=True)\n",
    "elections"
   ]
  },
  {
   "cell_type": "code",
   "execution_count": 40,
   "id": "0701036a",
   "metadata": {},
   "outputs": [
    {
     "data": {
      "text/html": [
       "<div>\n",
       "<style scoped>\n",
       "    .dataframe tbody tr th:only-of-type {\n",
       "        vertical-align: middle;\n",
       "    }\n",
       "\n",
       "    .dataframe tbody tr th {\n",
       "        vertical-align: top;\n",
       "    }\n",
       "\n",
       "    .dataframe thead th {\n",
       "        text-align: right;\n",
       "    }\n",
       "</style>\n",
       "<table border=\"1\" class=\"dataframe\">\n",
       "  <thead>\n",
       "    <tr style=\"text-align: right;\">\n",
       "      <th></th>\n",
       "      <th>number</th>\n",
       "      <th>name</th>\n",
       "    </tr>\n",
       "  </thead>\n",
       "  <tbody>\n",
       "    <tr>\n",
       "      <th>0</th>\n",
       "      <td>34</td>\n",
       "      <td>de</td>\n",
       "    </tr>\n",
       "    <tr>\n",
       "      <th>1</th>\n",
       "      <td>34</td>\n",
       "      <td>de</td>\n",
       "    </tr>\n",
       "    <tr>\n",
       "      <th>2</th>\n",
       "      <td>34</td>\n",
       "      <td>de</td>\n",
       "    </tr>\n",
       "    <tr>\n",
       "      <th>3</th>\n",
       "      <td>34</td>\n",
       "      <td>de</td>\n",
       "    </tr>\n",
       "    <tr>\n",
       "      <th>4</th>\n",
       "      <td>34</td>\n",
       "      <td>de</td>\n",
       "    </tr>\n",
       "  </tbody>\n",
       "</table>\n",
       "</div>"
      ],
      "text/plain": [
       "   number name\n",
       "0      34   de\n",
       "1      34   de\n",
       "2      34   de\n",
       "3      34   de\n",
       "4      34   de"
      ]
     },
     "execution_count": 40,
     "metadata": {},
     "output_type": "execute_result"
    }
   ],
   "source": [
    "pd.DataFrame([[34,'de'],[34,'de'],[34,'de'],[34,'de'],[34,'de']],columns=['number','name'])"
   ]
  },
  {
   "cell_type": "code",
   "execution_count": 55,
   "id": "36985630",
   "metadata": {},
   "outputs": [
    {
     "name": "stdout",
     "output_type": "stream",
     "text": [
      "RangeIndex(start=0, stop=24, step=1)\n",
      "Index(['a', 'b', 'c'], dtype='object')\n",
      "(24, 3)\n",
      "   a    b    c\n",
      "0  1  4.0  1.0\n",
      "1  2  5.0  2.0\n",
      "2  3  6.0  3.0\n",
      "3  4  7.0  4.0\n",
      "4  5  8.0  5.0\n",
      "      a   b   c\n",
      "19  234 NaN NaN\n",
      "20  234 NaN NaN\n",
      "21  234 NaN NaN\n",
      "22  234 NaN NaN\n",
      "23  234 NaN NaN\n"
     ]
    }
   ],
   "source": [
    "s_a = pd.Series([1,2,3,4,5,1,2,3,4,2,1,2,3,1,2,1,2,2,343,234,234,234,234,234])\n",
    "s_b = pd.Series([4,5,6,7,8])\n",
    "s_c = pd.Series([1,2,3,4,5,6,7,8,9,10])\n",
    "e = pd.DataFrame({'a':s_a,'b':s_b,'c':s_c})\n",
    "print(e.index)\n",
    "print(e.columns)\n",
    "print(e.shape)\n",
    "print(e.head())\n",
    "print(e.tail())"
   ]
  },
  {
   "cell_type": "code",
   "execution_count": 58,
   "id": "f899c84d",
   "metadata": {},
   "outputs": [
    {
     "name": "stdout",
     "output_type": "stream",
     "text": [
      "      c  a\n",
      "10  NaN  1\n",
      "2   3.0  3\n",
      "    a    b\n",
      "10  1  NaN\n",
      "2   3  6.0\n",
      "      a    b\n",
      "0     1  4.0\n",
      "2     3  6.0\n",
      "4     5  8.0\n",
      "6     2  NaN\n",
      "8     4  NaN\n",
      "10    1  NaN\n",
      "12    3  NaN\n",
      "14    2  NaN\n",
      "16    2  NaN\n",
      "18  343  NaN\n",
      "20  234  NaN\n",
      "22  234  NaN\n"
     ]
    }
   ],
   "source": [
    "print(e.loc[[10,2],['c','a']])\n",
    "print(e.loc[[10,2],'a':'b'])\n",
    "print(e.loc[e.index % 2 == 0,'a':'b'])"
   ]
  },
  {
   "cell_type": "code",
   "execution_count": 66,
   "id": "b0f3f19a",
   "metadata": {},
   "outputs": [
    {
     "name": "stdout",
     "output_type": "stream",
     "text": [
      "24\n",
      "3\n"
     ]
    }
   ],
   "source": [
    "print(len(e))\n",
    "print(e.iloc[len(e) // 2, 0])"
   ]
  }
 ],
 "metadata": {
  "kernelspec": {
   "display_name": "base",
   "language": "python",
   "name": "python3"
  },
  "language_info": {
   "codemirror_mode": {
    "name": "ipython",
    "version": 3
   },
   "file_extension": ".py",
   "mimetype": "text/x-python",
   "name": "python",
   "nbconvert_exporter": "python",
   "pygments_lexer": "ipython3",
   "version": "3.12.9"
  }
 },
 "nbformat": 4,
 "nbformat_minor": 5
}
